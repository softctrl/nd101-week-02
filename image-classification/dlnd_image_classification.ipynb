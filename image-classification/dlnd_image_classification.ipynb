{
 "cells": [
  {
   "cell_type": "markdown",
   "metadata": {
    "collapsed": true,
    "deletable": true,
    "editable": true
   },
   "source": [
    "# Image Classification\n",
    "In this project, you'll classify images from the [CIFAR-10 dataset](https://www.cs.toronto.edu/~kriz/cifar.html).  The dataset consists of airplanes, dogs, cats, and other objects. You'll preprocess the images, then train a convolutional neural network on all the samples. The images need to be normalized and the labels need to be one-hot encoded.  You'll get to apply what you learned and build a convolutional, max pooling, dropout, and fully connected layers.  At the end, you'll get to see your neural network's predictions on the sample images.\n",
    "## Get the Data\n",
    "Run the following cell to download the [CIFAR-10 dataset for python](https://www.cs.toronto.edu/~kriz/cifar-10-python.tar.gz)."
   ]
  },
  {
   "cell_type": "code",
   "execution_count": 1,
   "metadata": {
    "collapsed": false,
    "deletable": true,
    "editable": true
   },
   "outputs": [
    {
     "name": "stdout",
     "output_type": "stream",
     "text": [
      "All files found!\n"
     ]
    }
   ],
   "source": [
    "\"\"\"\n",
    "DON'T MODIFY ANYTHING IN THIS CELL THAT IS BELOW THIS LINE\n",
    "\"\"\"\n",
    "from urllib.request import urlretrieve\n",
    "from os.path import isfile, isdir\n",
    "from tqdm import tqdm\n",
    "import problem_unittests as tests\n",
    "import tarfile\n",
    "\n",
    "cifar10_dataset_folder_path = 'cifar-10-batches-py'\n",
    "\n",
    "# Use Floyd's cifar-10 dataset if present\n",
    "floyd_cifar10_location = '/input/cifar-10/python.tar.gz'\n",
    "if isfile(floyd_cifar10_location):\n",
    "    tar_gz_path = floyd_cifar10_location\n",
    "else:\n",
    "    tar_gz_path = 'cifar-10-python.tar.gz'\n",
    "\n",
    "class DLProgress(tqdm):\n",
    "    last_block = 0\n",
    "\n",
    "    def hook(self, block_num=1, block_size=1, total_size=None):\n",
    "        self.total = total_size\n",
    "        self.update((block_num - self.last_block) * block_size)\n",
    "        self.last_block = block_num\n",
    "\n",
    "if not isfile(tar_gz_path):\n",
    "    with DLProgress(unit='B', unit_scale=True, miniters=1, desc='CIFAR-10 Dataset') as pbar:\n",
    "        urlretrieve(\n",
    "            'https://www.cs.toronto.edu/~kriz/cifar-10-python.tar.gz',\n",
    "            tar_gz_path,\n",
    "            pbar.hook)\n",
    "\n",
    "if not isdir(cifar10_dataset_folder_path):\n",
    "    with tarfile.open(tar_gz_path) as tar:\n",
    "        tar.extractall()\n",
    "        tar.close()\n",
    "\n",
    "\n",
    "tests.test_folder_path(cifar10_dataset_folder_path)"
   ]
  },
  {
   "cell_type": "markdown",
   "metadata": {
    "deletable": true,
    "editable": true
   },
   "source": [
    "## Explore the Data\n",
    "The dataset is broken into batches to prevent your machine from running out of memory.  The CIFAR-10 dataset consists of 5 batches, named `data_batch_1`, `data_batch_2`, etc.. Each batch contains the labels and images that are one of the following:\n",
    "* airplane\n",
    "* automobile\n",
    "* bird\n",
    "* cat\n",
    "* deer\n",
    "* dog\n",
    "* frog\n",
    "* horse\n",
    "* ship\n",
    "* truck\n",
    "\n",
    "Understanding a dataset is part of making predictions on the data.  Play around with the code cell below by changing the `batch_id` and `sample_id`. The `batch_id` is the id for a batch (1-5). The `sample_id` is the id for a image and label pair in the batch.\n",
    "\n",
    "Ask yourself \"What are all possible labels?\", \"What is the range of values for the image data?\", \"Are the labels in order or random?\".  Answers to questions like these will help you preprocess the data and end up with better predictions."
   ]
  },
  {
   "cell_type": "code",
   "execution_count": 2,
   "metadata": {
    "collapsed": false,
    "deletable": true,
    "editable": true
   },
   "outputs": [
    {
     "name": "stdout",
     "output_type": "stream",
     "text": [
      "\n",
      "Stats of batch 1:\n",
      "Samples: 10000\n",
      "Label Counts: {0: 1005, 1: 974, 2: 1032, 3: 1016, 4: 999, 5: 937, 6: 1030, 7: 1001, 8: 1025, 9: 981}\n",
      "First 20 Labels: [6, 9, 9, 4, 1, 1, 2, 7, 8, 3, 4, 7, 7, 2, 9, 9, 9, 3, 2, 6]\n",
      "\n",
      "Example of Image 5:\n",
      "Image - Min Value: 0 Max Value: 252\n",
      "Image - Shape: (32, 32, 3)\n",
      "Label - Label Id: 1 Name: automobile\n"
     ]
    },
    {
     "data": {
      "image/png": "[encoded data removed]",
      "text/plain": [
       "<matplotlib.figure.Figure at 0x7f902c0d5860>"
      ]
     },
     "metadata": {
      "image/png": {
       "height": 250,
       "width": 253
      }
     },
     "output_type": "display_data"
    }
   ],
   "source": [
    "%matplotlib inline\n",
    "%config InlineBackend.figure_format = 'retina'\n",
    "\n",
    "import helper\n",
    "import numpy as np\n",
    "\n",
    "# Explore the dataset\n",
    "batch_id = 1\n",
    "sample_id = 5\n",
    "helper.display_stats(cifar10_dataset_folder_path, batch_id, sample_id)"
   ]
  },
  {
   "cell_type": "markdown",
   "metadata": {
    "deletable": true,
    "editable": true
   },
   "source": [
    "## Implement Preprocess Functions\n",
    "### Normalize\n",
    "In the cell below, implement the `normalize` function to take in image data, `x`, and return it as a normalized Numpy array. The values should be in the range of 0 to 1, inclusive.  The return object should be the same shape as `x`."
   ]
  },
  {
   "cell_type": "code",
   "execution_count": 3,
   "metadata": {
    "collapsed": false,
    "deletable": true,
    "editable": true
   },
   "outputs": [
    {
     "name": "stdout",
     "output_type": "stream",
     "text": [
      "Tests Passed\n"
     ]
    }
   ],
   "source": [
    "def normalize(x):\n",
    "    \"\"\"\n",
    "    Normalize a list of sample image data in the range of 0 to 1\n",
    "    : x: List of image data.  The image shape is (32, 32, 3)\n",
    "    : return: Numpy array of normalize data\n",
    "    \"\"\"\n",
    "    # TODO: Implement Function\n",
    "    return (x - np.min(x)) / (np.max(x) - np.min(x))\n",
    "\n",
    "\n",
    "\"\"\"\n",
    "DON'T MODIFY ANYTHING IN THIS CELL THAT IS BELOW THIS LINE\n",
    "\"\"\"\n",
    "tests.test_normalize(normalize)"
   ]
  },
  {
   "cell_type": "markdown",
   "metadata": {
    "deletable": true,
    "editable": true
   },
   "source": [
    "### One-hot encode\n",
    "Just like the previous code cell, you'll be implementing a function for preprocessing.  This time, you'll implement the `one_hot_encode` function. The input, `x`, are a list of labels.  Implement the function to return the list of labels as One-Hot encoded Numpy array.  The possible values for labels are 0 to 9. The one-hot encoding function should return the same encoding for each value between each call to `one_hot_encode`.  Make sure to save the map of encodings outside the function.\n",
    "\n",
    "Hint: Don't reinvent the wheel."
   ]
  },
  {
   "cell_type": "code",
   "execution_count": 4,
   "metadata": {
    "collapsed": false,
    "deletable": true,
    "editable": true
   },
   "outputs": [
    {
     "name": "stdout",
     "output_type": "stream",
     "text": [
      "Tests Passed\n"
     ]
    }
   ],
   "source": [
    "def one_hot_encode(x):\n",
    "    \"\"\"\n",
    "    One hot encode a list of sample labels. Return a one-hot encoded vector for each label.\n",
    "    : x: List of sample Labels\n",
    "    : return: Numpy array of one-hot encoded labels\n",
    "    \"\"\"\n",
    "    # TODO: Implement Function\n",
    "    max_vals = 10\n",
    "    return np.eye(max_vals)[x]\n",
    "\n",
    "\n",
    "\"\"\"\n",
    "DON'T MODIFY ANYTHING IN THIS CELL THAT IS BELOW THIS LINE\n",
    "\"\"\"\n",
    "tests.test_one_hot_encode(one_hot_encode)"
   ]
  },
  {
   "cell_type": "markdown",
   "metadata": {
    "deletable": true,
    "editable": true
   },
   "source": [
    "### Randomize Data\n",
    "As you saw from exploring the data above, the order of the samples are randomized.  It doesn't hurt to randomize it again, but you don't need to for this dataset."
   ]
  },
  {
   "cell_type": "markdown",
   "metadata": {
    "deletable": true,
    "editable": true
   },
   "source": [
    "## Preprocess all the data and save it\n",
    "Running the code cell below will preprocess all the CIFAR-10 data and save it to file. The code below also uses 10% of the training data for validation."
   ]
  },
  {
   "cell_type": "code",
   "execution_count": 5,
   "metadata": {
    "collapsed": false,
    "deletable": true,
    "editable": true
   },
   "outputs": [],
   "source": [
    "\"\"\"\n",
    "DON'T MODIFY ANYTHING IN THIS CELL\n",
    "\"\"\"\n",
    "# Preprocess Training, Validation, and Testing Data\n",
    "helper.preprocess_and_save_data(cifar10_dataset_folder_path, normalize, one_hot_encode)"
   ]
  },
  {
   "cell_type": "markdown",
   "metadata": {
    "deletable": true,
    "editable": true
   },
   "source": [
    "# Check Point\n",
    "This is your first checkpoint.  If you ever decide to come back to this notebook or have to restart the notebook, you can start from here.  The preprocessed data has been saved to disk."
   ]
  },
  {
   "cell_type": "code",
   "execution_count": 6,
   "metadata": {
    "collapsed": true,
    "deletable": true,
    "editable": true
   },
   "outputs": [],
   "source": [
    "\"\"\"\n",
    "DON'T MODIFY ANYTHING IN THIS CELL\n",
    "\"\"\"\n",
    "import pickle\n",
    "import problem_unittests as tests\n",
    "import helper\n",
    "\n",
    "# Load the Preprocessed Validation data\n",
    "valid_features, valid_labels = pickle.load(open('preprocess_validation.p', mode='rb'))"
   ]
  },
  {
   "cell_type": "markdown",
   "metadata": {
    "deletable": true,
    "editable": true
   },
   "source": [
    "## Build the network\n",
    "For the neural network, you'll build each layer into a function.  Most of the code you've seen has been outside of functions. To test your code more thoroughly, we require that you put each layer in a function.  This allows us to give you better feedback and test for simple mistakes using our unittests before you submit your project.\n",
    "\n",
    ">**Note:** If you're finding it hard to dedicate enough time for this course each week, we've provided a small shortcut to this part of the project. In the next couple of problems, you'll have the option to use classes from the [TensorFlow Layers](https://www.tensorflow.org/api_docs/python/tf/layers) or [TensorFlow Layers (contrib)](https://www.tensorflow.org/api_guides/python/contrib.layers) packages to build each layer, except the layers you build in the \"Convolutional and Max Pooling Layer\" section.  TF Layers is similar to Keras's and TFLearn's abstraction to layers, so it's easy to pickup.\n",
    "\n",
    ">However, if you would like to get the most out of this course, try to solve all the problems _without_ using anything from the TF Layers packages. You **can** still use classes from other packages that happen to have the same name as ones you find in TF Layers! For example, instead of using the TF Layers version of the `conv2d` class, [tf.layers.conv2d](https://www.tensorflow.org/api_docs/python/tf/layers/conv2d), you would want to use the TF Neural Network version of `conv2d`, [tf.nn.conv2d](https://www.tensorflow.org/api_docs/python/tf/nn/conv2d). \n",
    "\n",
    "Let's begin!\n",
    "\n",
    "### Input\n",
    "The neural network needs to read the image data, one-hot encoded labels, and dropout keep probability. Implement the following functions\n",
    "* Implement `neural_net_image_input`\n",
    " * Return a [TF Placeholder](https://www.tensorflow.org/api_docs/python/tf/placeholder)\n",
    " * Set the shape using `image_shape` with batch size set to `None`.\n",
    " * Name the TensorFlow placeholder \"x\" using the TensorFlow `name` parameter in the [TF Placeholder](https://www.tensorflow.org/api_docs/python/tf/placeholder).\n",
    "* Implement `neural_net_label_input`\n",
    " * Return a [TF Placeholder](https://www.tensorflow.org/api_docs/python/tf/placeholder)\n",
    " * Set the shape using `n_classes` with batch size set to `None`.\n",
    " * Name the TensorFlow placeholder \"y\" using the TensorFlow `name` parameter in the [TF Placeholder](https://www.tensorflow.org/api_docs/python/tf/placeholder).\n",
    "* Implement `neural_net_keep_prob_input`\n",
    " * Return a [TF Placeholder](https://www.tensorflow.org/api_docs/python/tf/placeholder) for dropout keep probability.\n",
    " * Name the TensorFlow placeholder \"keep_prob\" using the TensorFlow `name` parameter in the [TF Placeholder](https://www.tensorflow.org/api_docs/python/tf/placeholder).\n",
    "\n",
    "These names will be used at the end of the project to load your saved model.\n",
    "\n",
    "Note: `None` for shapes in TensorFlow allow for a dynamic size."
   ]
  },
  {
   "cell_type": "code",
   "execution_count": 7,
   "metadata": {
    "collapsed": false,
    "deletable": true,
    "editable": true
   },
   "outputs": [
    {
     "name": "stdout",
     "output_type": "stream",
     "text": [
      "Image Input Tests Passed.\n",
      "Label Input Tests Passed.\n",
      "Keep Prob Tests Passed.\n"
     ]
    }
   ],
   "source": [
    "import tensorflow as tf\n",
    "\n",
    "def neural_net_image_input(image_shape):\n",
    "    \"\"\"\n",
    "    Return a Tensor for a bach of image input\n",
    "    : image_shape: Shape of the images\n",
    "    : return: Tensor for image input.\n",
    "    \"\"\"\n",
    "    # TODO: Implement Function\n",
    "    return tf.placeholder(tf.float32, (None, *image_shape), name=\"x\") # Name the TensorFlow placeholder \"x\"\n",
    "\n",
    "\n",
    "def neural_net_label_input(n_classes):\n",
    "    \"\"\"\n",
    "    Return a Tensor for a batch of label input\n",
    "    : n_classes: Number of classes\n",
    "    : return: Tensor for label input.\n",
    "    \"\"\"\n",
    "    # TODO: Implement Function\n",
    "    return tf.placeholder(tf.float32, (None, n_classes), name=\"y\") # Name the TensorFlow placeholder \"y\"\n",
    "\n",
    "\n",
    "def neural_net_keep_prob_input():\n",
    "    \"\"\"\n",
    "    Return a Tensor for keep probability\n",
    "    : return: Tensor for keep probability.\n",
    "    \"\"\"\n",
    "    # TODO: Implement Function\n",
    "    return tf.placeholder(tf.float32, name=\"keep_prob\") # Name the TensorFlow placeholder \"keep_prob\"\n",
    "\n",
    "\n",
    "\"\"\"\n",
    "DON'T MODIFY ANYTHING IN THIS CELL THAT IS BELOW THIS LINE\n",
    "\"\"\"\n",
    "tf.reset_default_graph()\n",
    "tests.test_nn_image_inputs(neural_net_image_input)\n",
    "tests.test_nn_label_inputs(neural_net_label_input)\n",
    "tests.test_nn_keep_prob_inputs(neural_net_keep_prob_input)"
   ]
  },
  {
   "cell_type": "markdown",
   "metadata": {
    "deletable": true,
    "editable": true
   },
   "source": [
    "### Convolution and Max Pooling Layer\n",
    "Convolution layers have a lot of success with images. For this code cell, you should implement the function `conv2d_maxpool` to apply convolution then max pooling:\n",
    "* Create the weight and bias using `conv_ksize`, `conv_num_outputs` and the shape of `x_tensor`.\n",
    "* Apply a convolution to `x_tensor` using weight and `conv_strides`.\n",
    " * We recommend you use same padding, but you're welcome to use any padding.\n",
    "* Add bias\n",
    "* Add a nonlinear activation to the convolution.\n",
    "* Apply Max Pooling using `pool_ksize` and `pool_strides`.\n",
    " * We recommend you use same padding, but you're welcome to use any padding.\n",
    "\n",
    "**Note:** You **can't** use [TensorFlow Layers](https://www.tensorflow.org/api_docs/python/tf/layers) or [TensorFlow Layers (contrib)](https://www.tensorflow.org/api_guides/python/contrib.layers) for **this** layer, but you can still use TensorFlow's [Neural Network](https://www.tensorflow.org/api_docs/python/tf/nn) package. You may still use the shortcut option for all the **other** layers."
   ]
  },
  {
   "cell_type": "code",
   "execution_count": 15,
   "metadata": {
    "collapsed": false,
    "deletable": true,
    "editable": true
   },
   "outputs": [
    {
     "name": "stdout",
     "output_type": "stream",
     "text": [
      "Tests Passed\n"
     ]
    }
   ],
   "source": [
    "def conv2d_maxpool(x_tensor, conv_num_outputs, conv_ksize, conv_strides, pool_ksize, pool_strides):\n",
    "    \"\"\"\n",
    "    Apply convolution then max pooling to x_tensor\n",
    "    :param x_tensor: TensorFlow Tensor\n",
    "    :param conv_num_outputs: Number of outputs for the convolutional layer\n",
    "    :param conv_ksize: kernal size 2-D Tuple for the convolutional layer\n",
    "    :param conv_strides: Stride 2-D Tuple for convolution\n",
    "    :param pool_ksize: kernal size 2-D Tuple for pool\n",
    "    :param pool_strides: Stride 2-D Tuple for pool\n",
    "    : return: A tensor that represents convolution and max pooling of x_tensor\n",
    "    \"\"\"\n",
    "    # TODO: Implement Function\n",
    "    in_shape = int(x_tensor.get_shape()[3])\n",
    "    ou_shape = conv_num_outputs\n",
    "    w_shape = [*conv_ksize, in_shape, ou_shape]\n",
    "    w = tf.Variable(tf.random_normal(w_shape, stddev=0.1))\n",
    "    b = tf.Variable(tf.zeros(ou_shape))\n",
    "    # criando a 2a camada\n",
    "    conv_net = tf.nn.conv2d(x_tensor, w, [1, *conv_strides, 1], padding=\"SAME\")\n",
    "    # Adicionando bias\n",
    "    conv_net = tf.nn.bias_add(conv_net, b)\n",
    "    # adicionando ReLU\n",
    "    conv_net = tf.nn.relu(conv_net)\n",
    "    # Pooling maximo\n",
    "    mp_strides = [1, *pool_strides, 1]\n",
    "    mp_ksize = [1, *conv_ksize, 1]\n",
    "    conv_net = tf.nn.max_pool(conv_net, mp_ksize, mp_strides, padding=\"SAME\")\n",
    "    return conv_net \n",
    "\n",
    "\n",
    "\"\"\"\n",
    "DON'T MODIFY ANYTHING IN THIS CELL THAT IS BELOW THIS LINE\n",
    "\"\"\"\n",
    "tests.test_con_pool(conv2d_maxpool)"
   ]
  },
  {
   "cell_type": "markdown",
   "metadata": {
    "deletable": true,
    "editable": true
   },
   "source": [
    "### Flatten Layer\n",
    "Implement the `flatten` function to change the dimension of `x_tensor` from a 4-D tensor to a 2-D tensor.  The output should be the shape (*Batch Size*, *Flattened Image Size*). Shortcut option: you can use classes from the [TensorFlow Layers](https://www.tensorflow.org/api_docs/python/tf/layers) or [TensorFlow Layers (contrib)](https://www.tensorflow.org/api_guides/python/contrib.layers) packages for this layer. For more of a challenge, only use other TensorFlow packages."
   ]
  },
  {
   "cell_type": "code",
   "execution_count": 17,
   "metadata": {
    "collapsed": false,
    "deletable": true,
    "editable": true
   },
   "outputs": [
    {
     "name": "stdout",
     "output_type": "stream",
     "text": [
      "Tests Passed\n"
     ]
    }
   ],
   "source": [
    "def flatten(x_tensor):\n",
    "    \"\"\"\n",
    "    Flatten x_tensor to (Batch Size, Flattened Image Size)\n",
    "    : x_tensor: A tensor of size (Batch Size, ...), where ... are the image dimensions.\n",
    "    : return: A tensor of size (Batch Size, Flattened Image Size).\n",
    "    \"\"\"\n",
    "    # TODO: Implement Function\n",
    "    return tf.contrib.layers.flatten(x_tensor)\n",
    "\n",
    "\n",
    "\"\"\"\n",
    "DON'T MODIFY ANYTHING IN THIS CELL THAT IS BELOW THIS LINE\n",
    "\"\"\"\n",
    "tests.test_flatten(flatten)"
   ]
  },
  {
   "cell_type": "markdown",
   "metadata": {
    "deletable": true,
    "editable": true
   },
   "source": [
    "### Fully-Connected Layer\n",
    "Implement the `fully_conn` function to apply a fully connected layer to `x_tensor` with the shape (*Batch Size*, *num_outputs*). Shortcut option: you can use classes from the [TensorFlow Layers](https://www.tensorflow.org/api_docs/python/tf/layers) or [TensorFlow Layers (contrib)](https://www.tensorflow.org/api_guides/python/contrib.layers) packages for this layer. For more of a challenge, only use other TensorFlow packages."
   ]
  },
  {
   "cell_type": "code",
   "execution_count": 19,
   "metadata": {
    "collapsed": false,
    "deletable": true,
    "editable": true
   },
   "outputs": [
    {
     "name": "stdout",
     "output_type": "stream",
     "text": [
      "Tests Passed\n"
     ]
    }
   ],
   "source": [
    "def fully_conn(x_tensor, num_outputs):\n",
    "    \"\"\"\n",
    "    Apply a fully connected layer to x_tensor using weight and bias\n",
    "    : x_tensor: A 2-D tensor where the first dimension is batch size.\n",
    "    : num_outputs: The number of output that the new tensor should be.\n",
    "    : return: A 2-D tensor where the second dimension is num_outputs.\n",
    "    \"\"\"\n",
    "    # TODO: Implement Function\n",
    "    w_shape = (int(x_tensor.get_shape()[1]), num_outputs)\n",
    "    w = tf.Variable(tf.random_normal(w_shape, stddev=0.1))\n",
    "    b = tf.Variable(tf.zeros(num_outputs))\n",
    "    layer = tf.add(tf.matmul(x_tensor, w), b)\n",
    "    return tf.nn.relu(layer)\n",
    "\n",
    "\n",
    "\"\"\"\n",
    "DON'T MODIFY ANYTHING IN THIS CELL THAT IS BELOW THIS LINE\n",
    "\"\"\"\n",
    "tests.test_fully_conn(fully_conn)"
   ]
  },
  {
   "cell_type": "markdown",
   "metadata": {
    "deletable": true,
    "editable": true
   },
   "source": [
    "### Output Layer\n",
    "Implement the `output` function to apply a fully connected layer to `x_tensor` with the shape (*Batch Size*, *num_outputs*). Shortcut option: you can use classes from the [TensorFlow Layers](https://www.tensorflow.org/api_docs/python/tf/layers) or [TensorFlow Layers (contrib)](https://www.tensorflow.org/api_guides/python/contrib.layers) packages for this layer. For more of a challenge, only use other TensorFlow packages.\n",
    "\n",
    "**Note:** Activation, softmax, or cross entropy should **not** be applied to this."
   ]
  },
  {
   "cell_type": "code",
   "execution_count": 20,
   "metadata": {
    "collapsed": false,
    "deletable": true,
    "editable": true
   },
   "outputs": [
    {
     "name": "stdout",
     "output_type": "stream",
     "text": [
      "Tests Passed\n"
     ]
    }
   ],
   "source": [
    "def output(x_tensor, num_outputs):\n",
    "    \"\"\"\n",
    "    Apply a output layer to x_tensor using weight and bias\n",
    "    : x_tensor: A 2-D tensor where the first dimension is batch size.\n",
    "    : num_outputs: The number of output that the new tensor should be.\n",
    "    : return: A 2-D tensor where the second dimension is num_outputs.\n",
    "    \"\"\"\n",
    "    # TODO: Implement Function\n",
    "    w_shape = (int(x_tensor.get_shape()[1]), num_outputs)\n",
    "    w = tf.Variable(tf.random_normal(w_shape, stddev=0.1))\n",
    "    b = tf.Variable(tf.zeros(num_outputs))\n",
    "    return tf.add(tf.matmul(x_tensor, w), b)\n",
    "\n",
    "\n",
    "\n",
    "\"\"\"\n",
    "DON'T MODIFY ANYTHING IN THIS CELL THAT IS BELOW THIS LINE\n",
    "\"\"\"\n",
    "tests.test_output(output)"
   ]
  },
  {
   "cell_type": "markdown",
   "metadata": {
    "deletable": true,
    "editable": true
   },
   "source": [
    "### Create Convolutional Model\n",
    "Implement the function `conv_net` to create a convolutional neural network model. The function takes in a batch of images, `x`, and outputs logits.  Use the layers you created above to create this model:\n",
    "\n",
    "* Apply 1, 2, or 3 Convolution and Max Pool layers\n",
    "* Apply a Flatten Layer\n",
    "* Apply 1, 2, or 3 Fully Connected Layers\n",
    "* Apply an Output Layer\n",
    "* Return the output\n",
    "* Apply [TensorFlow's Dropout](https://www.tensorflow.org/api_docs/python/tf/nn/dropout) to one or more layers in the model using `keep_prob`. "
   ]
  },
  {
   "cell_type": "code",
   "execution_count": 21,
   "metadata": {
    "collapsed": false,
    "deletable": true,
    "editable": true
   },
   "outputs": [
    {
     "name": "stdout",
     "output_type": "stream",
     "text": [
      "Neural Network Built!\n"
     ]
    }
   ],
   "source": [
    "def conv_net(x, keep_prob):\n",
    "    \"\"\"\n",
    "    Create a convolutional neural network model\n",
    "    : x: Placeholder tensor that holds image data.\n",
    "    : keep_prob: Placeholder tensor that hold dropout keep probability.\n",
    "    : return: Tensor that represents logits\n",
    "    \"\"\"\n",
    "    # Configurando Hyper parametros\n",
    "    conv_num_outputs_layer_1 = 64\n",
    "    conv_ksize_layer_1 = (3, 3)\n",
    "    conv_strides_layer_1 = (1, 1)\n",
    "    pool_ksize_layer_1 = (2, 2)\n",
    "    pool_strides_layer_1 = (2, 2)\n",
    "    \n",
    "    conv_num_outputs_layer_2 = 64\n",
    "    conv_ksize_layer_2 = (3, 3)\n",
    "    conv_strides_layer_2 = (2, 2)\n",
    "    pool_ksize_layer_2 = (2, 2)\n",
    "    pool_strides_layer_2 = (2, 2)\n",
    "    \n",
    "    conv_num_outputs_layer_3 = 64\n",
    "    conv_ksize_layer_3 = (3, 3)\n",
    "    conv_strides_layer_3 = (1, 1)\n",
    "    pool_ksize_layer_3 = (2, 2)\n",
    "    pool_strides_layer_3 = (2, 2)\n",
    "    \n",
    "    fc_layer_1_num_outputs = 512\n",
    "    fc_layer_2_num_outputs = 256\n",
    "    output_num_outputs = 10\n",
    "    \n",
    "    # TODO: Apply 1, 2, or 3 Convolution and Max Pool layers\n",
    "    #    Play around with different number of outputs, kernel size and stride\n",
    "    # Function Definition from Above:\n",
    "    #    conv2d_maxpool(x_tensor, conv_num_outputs, conv_ksize, conv_strides, pool_ksize, pool_strides)\n",
    "    conv_layer_1 = conv2d_maxpool(x, conv_num_outputs_layer_1, conv_ksize_layer_1, conv_strides_layer_1, pool_ksize_layer_1, pool_strides_layer_1)\n",
    "    conv_layer_2 = conv2d_maxpool(conv_layer_1, conv_num_outputs_layer_2, conv_ksize_layer_2, conv_strides_layer_2, pool_ksize_layer_2, pool_strides_layer_2)\n",
    "    conv_layer_3 = conv2d_maxpool(conv_layer_2, conv_num_outputs_layer_3, conv_ksize_layer_3, conv_strides_layer_3, pool_ksize_layer_3, pool_strides_layer_3)    \n",
    "\n",
    "    # TODO: Apply a Flatten Layer\n",
    "    # Function Definition from Above:\n",
    "    #   flatten(x_tensor)\n",
    "    flatten_layer = flatten(conv_layer_3)\n",
    "    \n",
    "\n",
    "    # TODO: Apply 1, 2, or 3 Fully Connected Layers\n",
    "    #    Play around with different number of outputs\n",
    "    # Function Definition from Above:\n",
    "    #   fully_conn(x_tensor, num_outputs)\n",
    "    # Camada 1\n",
    "    fc_layer_1 = fully_conn(flatten_layer, fc_layer_1_num_outputs)\n",
    "    fc_layer_1 = tf.nn.dropout(fc_layer_1, keep_prob)\n",
    "    # Camada 2\n",
    "    fc_layer_2 = fully_conn(fc_layer_1, fc_layer_2_num_outputs)\n",
    "    fc_layer_2 = tf.nn.dropout(fc_layer_2, keep_prob)    \n",
    "    \n",
    "    \n",
    "    # TODO: Apply an Output Layer\n",
    "    #    Set this to the number of classes\n",
    "    # Function Definition from Above:\n",
    "    #   output(x_tensor, num_outputs)\n",
    "    output_layer = output(fc_layer_2, output_num_outputs)\n",
    "    \n",
    "    # TODO: return output\n",
    "    return output_layer\n",
    "\n",
    "\n",
    "\"\"\"\n",
    "DON'T MODIFY ANYTHING IN THIS CELL THAT IS BELOW THIS LINE\n",
    "\"\"\"\n",
    "\n",
    "##############################\n",
    "## Build the Neural Network ##\n",
    "##############################\n",
    "\n",
    "# Remove previous weights, bias, inputs, etc..\n",
    "tf.reset_default_graph()\n",
    "\n",
    "# Inputs\n",
    "x = neural_net_image_input((32, 32, 3))\n",
    "y = neural_net_label_input(10)\n",
    "keep_prob = neural_net_keep_prob_input()\n",
    "\n",
    "# Model\n",
    "logits = conv_net(x, keep_prob)\n",
    "\n",
    "# Name logits Tensor, so that is can be loaded from disk after training\n",
    "logits = tf.identity(logits, name='logits')\n",
    "\n",
    "# Loss and Optimizer\n",
    "cost = tf.reduce_mean(tf.nn.softmax_cross_entropy_with_logits(logits=logits, labels=y))\n",
    "optimizer = tf.train.AdamOptimizer().minimize(cost)\n",
    "\n",
    "# Accuracy\n",
    "correct_pred = tf.equal(tf.argmax(logits, 1), tf.argmax(y, 1))\n",
    "accuracy = tf.reduce_mean(tf.cast(correct_pred, tf.float32), name='accuracy')\n",
    "\n",
    "tests.test_conv_net(conv_net)"
   ]
  },
  {
   "cell_type": "markdown",
   "metadata": {
    "deletable": true,
    "editable": true
   },
   "source": [
    "## Train the Neural Network\n",
    "### Single Optimization\n",
    "Implement the function `train_neural_network` to do a single optimization.  The optimization should use `optimizer` to optimize in `session` with a `feed_dict` of the following:\n",
    "* `x` for image input\n",
    "* `y` for labels\n",
    "* `keep_prob` for keep probability for dropout\n",
    "\n",
    "This function will be called for each batch, so `tf.global_variables_initializer()` has already been called.\n",
    "\n",
    "Note: Nothing needs to be returned. This function is only optimizing the neural network."
   ]
  },
  {
   "cell_type": "code",
   "execution_count": 22,
   "metadata": {
    "collapsed": false,
    "deletable": true,
    "editable": true
   },
   "outputs": [
    {
     "name": "stdout",
     "output_type": "stream",
     "text": [
      "Tests Passed\n"
     ]
    }
   ],
   "source": [
    "def train_neural_network(session, optimizer, keep_probability, feature_batch, label_batch):\n",
    "    \"\"\"\n",
    "    Optimize the session on a batch of images and labels\n",
    "    : session: Current TensorFlow session\n",
    "    : optimizer: TensorFlow optimizer function\n",
    "    : keep_probability: keep probability\n",
    "    : feature_batch: Batch of Numpy image data\n",
    "    : label_batch: Batch of Numpy label data\n",
    "    \"\"\"\n",
    "    # TODO: Implement Function\n",
    "    feed_dict = { x: feature_batch, y: label_batch, keep_prob: keep_probability }\n",
    "    session.run(optimizer, feed_dict=feed_dict)\n",
    "\n",
    "\n",
    "\"\"\"\n",
    "DON'T MODIFY ANYTHING IN THIS CELL THAT IS BELOW THIS LINE\n",
    "\"\"\"\n",
    "tests.test_train_nn(train_neural_network)"
   ]
  },
  {
   "cell_type": "markdown",
   "metadata": {
    "deletable": true,
    "editable": true
   },
   "source": [
    "### Show Stats\n",
    "Implement the function `print_stats` to print loss and validation accuracy.  Use the global variables `valid_features` and `valid_labels` to calculate validation accuracy.  Use a keep probability of `1.0` to calculate the loss and validation accuracy."
   ]
  },
  {
   "cell_type": "code",
   "execution_count": 23,
   "metadata": {
    "collapsed": false,
    "deletable": true,
    "editable": true
   },
   "outputs": [],
   "source": [
    "def print_stats(session, feature_batch, label_batch, cost, accuracy):\n",
    "    \"\"\"\n",
    "    Print information about loss and validation accuracy\n",
    "    : session: Current TensorFlow session\n",
    "    : feature_batch: Batch of Numpy image data\n",
    "    : label_batch: Batch of Numpy label data\n",
    "    : cost: TensorFlow cost function\n",
    "    : accuracy: TensorFlow accuracy function\n",
    "    \"\"\"\n",
    "    # TODO: Implement Function\n",
    "    fdl = { x: feature_batch, y: label_batch, keep_prob: 1.0 }\n",
    "    loss = session.run(cost, feed_dict=fdl)\n",
    "    \n",
    "    acc = { x: valid_features, y: valid_labels, keep_prob: 1.0 }\n",
    "    valid_accuracy = session.run(accuracy, feed_dict=acc)\n",
    "    \n",
    "    print('Loss: {:.4f} Validation Accuracy: {:.4f}'.format(loss, valid_accuracy))"
   ]
  },
  {
   "cell_type": "markdown",
   "metadata": {
    "deletable": true,
    "editable": true
   },
   "source": [
    "### Hyperparameters\n",
    "Tune the following parameters:\n",
    "* Set `epochs` to the number of iterations until the network stops learning or start overfitting\n",
    "* Set `batch_size` to the highest number that your machine has memory for.  Most people set them to common sizes of memory:\n",
    " * 64\n",
    " * 128\n",
    " * 256\n",
    " * ...\n",
    "* Set `keep_probability` to the probability of keeping a node using dropout"
   ]
  },
  {
   "cell_type": "code",
   "execution_count": 30,
   "metadata": {
    "collapsed": true,
    "deletable": true,
    "editable": true
   },
   "outputs": [],
   "source": [
    "# TODO: Tune Parameters\n",
    "epochs = 50\n",
    "batch_size = 257\n",
    "keep_probability = 0.8"
   ]
  },
  {
   "cell_type": "markdown",
   "metadata": {
    "deletable": true,
    "editable": true
   },
   "source": [
    "### Train on a Single CIFAR-10 Batch\n",
    "Instead of training the neural network on all the CIFAR-10 batches of data, let's use a single batch. This should save time while you iterate on the model to get a better accuracy.  Once the final validation accuracy is 50% or greater, run the model on all the data in the next section."
   ]
  },
  {
   "cell_type": "code",
   "execution_count": 31,
   "metadata": {
    "collapsed": false,
    "deletable": true,
    "editable": true
   },
   "outputs": [
    {
     "name": "stdout",
     "output_type": "stream",
     "text": [
      "Checking the Training on a Single Batch...\n",
      "Epoch  1, CIFAR-10 Batch 1:  Loss: 1.9153 Validation Accuracy: 0.2164\n",
      "Epoch  2, CIFAR-10 Batch 1:  Loss: 1.4798 Validation Accuracy: 0.2888\n",
      "Epoch  3, CIFAR-10 Batch 1:  Loss: 1.0728 Validation Accuracy: 0.3202\n",
      "Epoch  4, CIFAR-10 Batch 1:  Loss: 0.8937 Validation Accuracy: 0.4082\n",
      "Epoch  5, CIFAR-10 Batch 1:  Loss: 0.6039 Validation Accuracy: 0.4028\n",
      "Epoch  6, CIFAR-10 Batch 1:  Loss: 0.4178 Validation Accuracy: 0.4784\n",
      "Epoch  7, CIFAR-10 Batch 1:  Loss: 0.2259 Validation Accuracy: 0.4836\n",
      "Epoch  8, CIFAR-10 Batch 1:  Loss: 0.1833 Validation Accuracy: 0.5052\n",
      "Epoch  9, CIFAR-10 Batch 1:  Loss: 0.1495 Validation Accuracy: 0.5256\n",
      "Epoch 10, CIFAR-10 Batch 1:  Loss: 0.1125 Validation Accuracy: 0.5228\n",
      "Epoch 11, CIFAR-10 Batch 1:  Loss: 0.0766 Validation Accuracy: 0.5180\n",
      "Epoch 12, CIFAR-10 Batch 1:  Loss: 0.0855 Validation Accuracy: 0.5002\n",
      "Epoch 13, CIFAR-10 Batch 1:  Loss: 0.0491 Validation Accuracy: 0.5418\n",
      "Epoch 14, CIFAR-10 Batch 1:  Loss: 0.0463 Validation Accuracy: 0.5088\n",
      "Epoch 15, CIFAR-10 Batch 1:  Loss: 0.0308 Validation Accuracy: 0.5652\n",
      "Epoch 16, CIFAR-10 Batch 1:  Loss: 0.0143 Validation Accuracy: 0.5748\n",
      "Epoch 17, CIFAR-10 Batch 1:  Loss: 0.0107 Validation Accuracy: 0.5708\n",
      "Epoch 18, CIFAR-10 Batch 1:  Loss: 0.0189 Validation Accuracy: 0.5344\n",
      "Epoch 19, CIFAR-10 Batch 1:  Loss: 0.0107 Validation Accuracy: 0.5672\n",
      "Epoch 20, CIFAR-10 Batch 1:  Loss: 0.0138 Validation Accuracy: 0.5710\n",
      "Epoch 21, CIFAR-10 Batch 1:  Loss: 0.0075 Validation Accuracy: 0.5564\n",
      "Epoch 22, CIFAR-10 Batch 1:  Loss: 0.0096 Validation Accuracy: 0.5616\n",
      "Epoch 23, CIFAR-10 Batch 1:  Loss: 0.0158 Validation Accuracy: 0.5588\n",
      "Epoch 24, CIFAR-10 Batch 1:  Loss: 0.0160 Validation Accuracy: 0.5622\n",
      "Epoch 25, CIFAR-10 Batch 1:  Loss: 0.0101 Validation Accuracy: 0.5578\n",
      "Epoch 26, CIFAR-10 Batch 1:  Loss: 0.0119 Validation Accuracy: 0.5534\n",
      "Epoch 27, CIFAR-10 Batch 1:  Loss: 0.0117 Validation Accuracy: 0.5392\n",
      "Epoch 28, CIFAR-10 Batch 1:  Loss: 0.0046 Validation Accuracy: 0.5730\n",
      "Epoch 29, CIFAR-10 Batch 1:  Loss: 0.0050 Validation Accuracy: 0.5664\n",
      "Epoch 30, CIFAR-10 Batch 1:  Loss: 0.0065 Validation Accuracy: 0.5538\n",
      "Epoch 31, CIFAR-10 Batch 1:  Loss: 0.0031 Validation Accuracy: 0.5732\n",
      "Epoch 32, CIFAR-10 Batch 1:  Loss: 0.0018 Validation Accuracy: 0.5818\n",
      "Epoch 33, CIFAR-10 Batch 1:  Loss: 0.0016 Validation Accuracy: 0.5822\n",
      "Epoch 34, CIFAR-10 Batch 1:  Loss: 0.0011 Validation Accuracy: 0.5826\n",
      "Epoch 35, CIFAR-10 Batch 1:  Loss: 0.0007 Validation Accuracy: 0.5718\n",
      "Epoch 36, CIFAR-10 Batch 1:  Loss: 0.0037 Validation Accuracy: 0.5496\n",
      "Epoch 37, CIFAR-10 Batch 1:  Loss: 0.0009 Validation Accuracy: 0.5820\n",
      "Epoch 38, CIFAR-10 Batch 1:  Loss: 0.0016 Validation Accuracy: 0.5780\n",
      "Epoch 39, CIFAR-10 Batch 1:  Loss: 0.0017 Validation Accuracy: 0.5850\n",
      "Epoch 40, CIFAR-10 Batch 1:  Loss: 0.0018 Validation Accuracy: 0.5730\n",
      "Epoch 41, CIFAR-10 Batch 1:  Loss: 0.0024 Validation Accuracy: 0.5496\n",
      "Epoch 42, CIFAR-10 Batch 1:  Loss: 0.0036 Validation Accuracy: 0.5318\n",
      "Epoch 43, CIFAR-10 Batch 1:  Loss: 0.0034 Validation Accuracy: 0.5724\n",
      "Epoch 44, CIFAR-10 Batch 1:  Loss: 0.0003 Validation Accuracy: 0.5678\n",
      "Epoch 45, CIFAR-10 Batch 1:  Loss: 0.0001 Validation Accuracy: 0.5796\n",
      "Epoch 46, CIFAR-10 Batch 1:  Loss: 0.0000 Validation Accuracy: 0.5564\n",
      "Epoch 47, CIFAR-10 Batch 1:  Loss: 0.0001 Validation Accuracy: 0.5656\n",
      "Epoch 48, CIFAR-10 Batch 1:  Loss: 0.0001 Validation Accuracy: 0.5730\n",
      "Epoch 49, CIFAR-10 Batch 1:  Loss: 0.0001 Validation Accuracy: 0.5814\n",
      "Epoch 50, CIFAR-10 Batch 1:  Loss: 0.0002 Validation Accuracy: 0.5532\n"
     ]
    }
   ],
   "source": [
    "\"\"\"\n",
    "DON'T MODIFY ANYTHING IN THIS CELL\n",
    "\"\"\"\n",
    "print('Checking the Training on a Single Batch...')\n",
    "with tf.Session() as sess:\n",
    "    # Initializing the variables\n",
    "    sess.run(tf.global_variables_initializer())\n",
    "    \n",
    "    # Training cycle\n",
    "    for epoch in range(epochs):\n",
    "        batch_i = 1\n",
    "        for batch_features, batch_labels in helper.load_preprocess_training_batch(batch_i, batch_size):\n",
    "            train_neural_network(sess, optimizer, keep_probability, batch_features, batch_labels)\n",
    "        print('Epoch {:>2}, CIFAR-10 Batch {}:  '.format(epoch + 1, batch_i), end='')\n",
    "        print_stats(sess, batch_features, batch_labels, cost, accuracy)"
   ]
  },
  {
   "cell_type": "markdown",
   "metadata": {
    "deletable": true,
    "editable": true
   },
   "source": [
    "### Fully Train the Model\n",
    "Now that you got a good accuracy with a single CIFAR-10 batch, try it with all five batches."
   ]
  },
  {
   "cell_type": "code",
   "execution_count": 32,
   "metadata": {
    "collapsed": false,
    "deletable": true,
    "editable": true
   },
   "outputs": [
    {
     "name": "stdout",
     "output_type": "stream",
     "text": [
      "Training...\n",
      "Epoch  1, CIFAR-10 Batch 1:  Loss: 1.8296 Validation Accuracy: 0.2876\n",
      "Epoch  1, CIFAR-10 Batch 2:  Loss: 1.6516 Validation Accuracy: 0.3226\n",
      "Epoch  1, CIFAR-10 Batch 3:  Loss: 1.0444 Validation Accuracy: 0.3354\n",
      "Epoch  1, CIFAR-10 Batch 4:  Loss: 1.0005 Validation Accuracy: 0.4092\n",
      "Epoch  1, CIFAR-10 Batch 5:  Loss: 1.0362 Validation Accuracy: 0.4054\n",
      "Epoch  2, CIFAR-10 Batch 1:  Loss: 1.1340 Validation Accuracy: 0.4416\n",
      "Epoch  2, CIFAR-10 Batch 2:  Loss: 0.8626 Validation Accuracy: 0.4590\n",
      "Epoch  2, CIFAR-10 Batch 3:  Loss: 0.5076 Validation Accuracy: 0.4652\n",
      "Epoch  2, CIFAR-10 Batch 4:  Loss: 0.6107 Validation Accuracy: 0.4884\n",
      "Epoch  2, CIFAR-10 Batch 5:  Loss: 0.5202 Validation Accuracy: 0.4886\n",
      "Epoch  3, CIFAR-10 Batch 1:  Loss: 0.6915 Validation Accuracy: 0.5126\n",
      "Epoch  3, CIFAR-10 Batch 2:  Loss: 0.3395 Validation Accuracy: 0.5340\n",
      "Epoch  3, CIFAR-10 Batch 3:  Loss: 0.3967 Validation Accuracy: 0.5196\n",
      "Epoch  3, CIFAR-10 Batch 4:  Loss: 0.2997 Validation Accuracy: 0.5484\n",
      "Epoch  3, CIFAR-10 Batch 5:  Loss: 0.3008 Validation Accuracy: 0.5380\n",
      "Epoch  4, CIFAR-10 Batch 1:  Loss: 0.3562 Validation Accuracy: 0.5494\n",
      "Epoch  4, CIFAR-10 Batch 2:  Loss: 0.1342 Validation Accuracy: 0.5592\n",
      "Epoch  4, CIFAR-10 Batch 3:  Loss: 0.2102 Validation Accuracy: 0.5428\n",
      "Epoch  4, CIFAR-10 Batch 4:  Loss: 0.1964 Validation Accuracy: 0.5876\n",
      "Epoch  4, CIFAR-10 Batch 5:  Loss: 0.1509 Validation Accuracy: 0.5936\n",
      "Epoch  5, CIFAR-10 Batch 1:  Loss: 0.2017 Validation Accuracy: 0.6058\n",
      "Epoch  5, CIFAR-10 Batch 2:  Loss: 0.1099 Validation Accuracy: 0.5990\n",
      "Epoch  5, CIFAR-10 Batch 3:  Loss: 0.1483 Validation Accuracy: 0.5930\n",
      "Epoch  5, CIFAR-10 Batch 4:  Loss: 0.1489 Validation Accuracy: 0.6160\n",
      "Epoch  5, CIFAR-10 Batch 5:  Loss: 0.0958 Validation Accuracy: 0.6076\n",
      "Epoch  6, CIFAR-10 Batch 1:  Loss: 0.1062 Validation Accuracy: 0.6140\n",
      "Epoch  6, CIFAR-10 Batch 2:  Loss: 0.0722 Validation Accuracy: 0.6136\n",
      "Epoch  6, CIFAR-10 Batch 3:  Loss: 0.1055 Validation Accuracy: 0.6042\n",
      "Epoch  6, CIFAR-10 Batch 4:  Loss: 0.0870 Validation Accuracy: 0.6184\n",
      "Epoch  6, CIFAR-10 Batch 5:  Loss: 0.0531 Validation Accuracy: 0.6246\n",
      "Epoch  7, CIFAR-10 Batch 1:  Loss: 0.0859 Validation Accuracy: 0.6320\n",
      "Epoch  7, CIFAR-10 Batch 2:  Loss: 0.0639 Validation Accuracy: 0.5910\n",
      "Epoch  7, CIFAR-10 Batch 3:  Loss: 0.0801 Validation Accuracy: 0.6418\n",
      "Epoch  7, CIFAR-10 Batch 4:  Loss: 0.0441 Validation Accuracy: 0.6390\n",
      "Epoch  7, CIFAR-10 Batch 5:  Loss: 0.0369 Validation Accuracy: 0.6286\n",
      "Epoch  8, CIFAR-10 Batch 1:  Loss: 0.0509 Validation Accuracy: 0.6318\n",
      "Epoch  8, CIFAR-10 Batch 2:  Loss: 0.0315 Validation Accuracy: 0.6268\n",
      "Epoch  8, CIFAR-10 Batch 3:  Loss: 0.0651 Validation Accuracy: 0.6424\n",
      "Epoch  8, CIFAR-10 Batch 4:  Loss: 0.0514 Validation Accuracy: 0.6500\n",
      "Epoch  8, CIFAR-10 Batch 5:  Loss: 0.0277 Validation Accuracy: 0.6516\n",
      "Epoch  9, CIFAR-10 Batch 1:  Loss: 0.0355 Validation Accuracy: 0.6472\n",
      "Epoch  9, CIFAR-10 Batch 2:  Loss: 0.0194 Validation Accuracy: 0.6484\n",
      "Epoch  9, CIFAR-10 Batch 3:  Loss: 0.0405 Validation Accuracy: 0.6498\n",
      "Epoch  9, CIFAR-10 Batch 4:  Loss: 0.0327 Validation Accuracy: 0.6576\n",
      "Epoch  9, CIFAR-10 Batch 5:  Loss: 0.0266 Validation Accuracy: 0.6460\n",
      "Epoch 10, CIFAR-10 Batch 1:  Loss: 0.0384 Validation Accuracy: 0.6540\n",
      "Epoch 10, CIFAR-10 Batch 2:  Loss: 0.0239 Validation Accuracy: 0.6674\n",
      "Epoch 10, CIFAR-10 Batch 3:  Loss: 0.0317 Validation Accuracy: 0.6536\n",
      "Epoch 10, CIFAR-10 Batch 4:  Loss: 0.0386 Validation Accuracy: 0.6666\n",
      "Epoch 10, CIFAR-10 Batch 5:  Loss: 0.0156 Validation Accuracy: 0.6584\n",
      "Epoch 11, CIFAR-10 Batch 1:  Loss: 0.0345 Validation Accuracy: 0.6222\n",
      "Epoch 11, CIFAR-10 Batch 2:  Loss: 0.0177 Validation Accuracy: 0.6726\n",
      "Epoch 11, CIFAR-10 Batch 3:  Loss: 0.0225 Validation Accuracy: 0.6692\n",
      "Epoch 11, CIFAR-10 Batch 4:  Loss: 0.0140 Validation Accuracy: 0.6790\n",
      "Epoch 11, CIFAR-10 Batch 5:  Loss: 0.0111 Validation Accuracy: 0.6462\n",
      "Epoch 12, CIFAR-10 Batch 1:  Loss: 0.0250 Validation Accuracy: 0.6372\n",
      "Epoch 12, CIFAR-10 Batch 2:  Loss: 0.0146 Validation Accuracy: 0.6716\n",
      "Epoch 12, CIFAR-10 Batch 3:  Loss: 0.0270 Validation Accuracy: 0.6738\n",
      "Epoch 12, CIFAR-10 Batch 4:  Loss: 0.0160 Validation Accuracy: 0.6744\n",
      "Epoch 12, CIFAR-10 Batch 5:  Loss: 0.0162 Validation Accuracy: 0.6420\n",
      "Epoch 13, CIFAR-10 Batch 1:  Loss: 0.0233 Validation Accuracy: 0.6552\n",
      "Epoch 13, CIFAR-10 Batch 2:  Loss: 0.0125 Validation Accuracy: 0.6702\n",
      "Epoch 13, CIFAR-10 Batch 3:  Loss: 0.0130 Validation Accuracy: 0.6670\n",
      "Epoch 13, CIFAR-10 Batch 4:  Loss: 0.0125 Validation Accuracy: 0.6708\n",
      "Epoch 13, CIFAR-10 Batch 5:  Loss: 0.0109 Validation Accuracy: 0.6670\n",
      "Epoch 14, CIFAR-10 Batch 1:  Loss: 0.0154 Validation Accuracy: 0.6738\n",
      "Epoch 14, CIFAR-10 Batch 2:  Loss: 0.0109 Validation Accuracy: 0.6920\n",
      "Epoch 14, CIFAR-10 Batch 3:  Loss: 0.0117 Validation Accuracy: 0.6880\n",
      "Epoch 14, CIFAR-10 Batch 4:  Loss: 0.0173 Validation Accuracy: 0.6772\n",
      "Epoch 14, CIFAR-10 Batch 5:  Loss: 0.0058 Validation Accuracy: 0.6756\n",
      "Epoch 15, CIFAR-10 Batch 1:  Loss: 0.0125 Validation Accuracy: 0.6712\n",
      "Epoch 15, CIFAR-10 Batch 2:  Loss: 0.0046 Validation Accuracy: 0.6856\n",
      "Epoch 15, CIFAR-10 Batch 3:  Loss: 0.0104 Validation Accuracy: 0.6746\n",
      "Epoch 15, CIFAR-10 Batch 4:  Loss: 0.0076 Validation Accuracy: 0.6924\n",
      "Epoch 15, CIFAR-10 Batch 5:  Loss: 0.0069 Validation Accuracy: 0.6782\n",
      "Epoch 16, CIFAR-10 Batch 1:  Loss: 0.0147 Validation Accuracy: 0.6788\n",
      "Epoch 16, CIFAR-10 Batch 2:  Loss: 0.0145 Validation Accuracy: 0.6928\n",
      "Epoch 16, CIFAR-10 Batch 3:  Loss: 0.0112 Validation Accuracy: 0.6844\n",
      "Epoch 16, CIFAR-10 Batch 4:  Loss: 0.0043 Validation Accuracy: 0.6900\n",
      "Epoch 16, CIFAR-10 Batch 5:  Loss: 0.0027 Validation Accuracy: 0.6914\n",
      "Epoch 17, CIFAR-10 Batch 1:  Loss: 0.0072 Validation Accuracy: 0.6728\n",
      "Epoch 17, CIFAR-10 Batch 2:  Loss: 0.0109 Validation Accuracy: 0.6930\n",
      "Epoch 17, CIFAR-10 Batch 3:  Loss: 0.0096 Validation Accuracy: 0.6832\n",
      "Epoch 17, CIFAR-10 Batch 4:  Loss: 0.0062 Validation Accuracy: 0.6864\n",
      "Epoch 17, CIFAR-10 Batch 5:  Loss: 0.0190 Validation Accuracy: 0.6788\n",
      "Epoch 18, CIFAR-10 Batch 1:  Loss: 0.0136 Validation Accuracy: 0.6714\n",
      "Epoch 18, CIFAR-10 Batch 2:  Loss: 0.0051 Validation Accuracy: 0.6888\n",
      "Epoch 18, CIFAR-10 Batch 3:  Loss: 0.0160 Validation Accuracy: 0.6578\n",
      "Epoch 18, CIFAR-10 Batch 4:  Loss: 0.0095 Validation Accuracy: 0.6856\n",
      "Epoch 18, CIFAR-10 Batch 5:  Loss: 0.0046 Validation Accuracy: 0.6858\n",
      "Epoch 19, CIFAR-10 Batch 1:  Loss: 0.0087 Validation Accuracy: 0.6798\n",
      "Epoch 19, CIFAR-10 Batch 2:  Loss: 0.0038 Validation Accuracy: 0.6974\n",
      "Epoch 19, CIFAR-10 Batch 3:  Loss: 0.0055 Validation Accuracy: 0.6506\n",
      "Epoch 19, CIFAR-10 Batch 4:  Loss: 0.0045 Validation Accuracy: 0.6888\n",
      "Epoch 19, CIFAR-10 Batch 5:  Loss: 0.0096 Validation Accuracy: 0.6920\n",
      "Epoch 20, CIFAR-10 Batch 1:  Loss: 0.0054 Validation Accuracy: 0.6974\n",
      "Epoch 20, CIFAR-10 Batch 2:  Loss: 0.0039 Validation Accuracy: 0.6884\n",
      "Epoch 20, CIFAR-10 Batch 3:  Loss: 0.0077 Validation Accuracy: 0.6452\n",
      "Epoch 20, CIFAR-10 Batch 4:  Loss: 0.0046 Validation Accuracy: 0.6946\n",
      "Epoch 20, CIFAR-10 Batch 5:  Loss: 0.0035 Validation Accuracy: 0.6940\n",
      "Epoch 21, CIFAR-10 Batch 1:  Loss: 0.0137 Validation Accuracy: 0.6918\n",
      "Epoch 21, CIFAR-10 Batch 2:  Loss: 0.0015 Validation Accuracy: 0.6568\n",
      "Epoch 21, CIFAR-10 Batch 3:  Loss: 0.0257 Validation Accuracy: 0.6416\n",
      "Epoch 21, CIFAR-10 Batch 4:  Loss: 0.0059 Validation Accuracy: 0.6894\n",
      "Epoch 21, CIFAR-10 Batch 5:  Loss: 0.0019 Validation Accuracy: 0.6988\n",
      "Epoch 22, CIFAR-10 Batch 1:  Loss: 0.0160 Validation Accuracy: 0.6770\n",
      "Epoch 22, CIFAR-10 Batch 2:  Loss: 0.0032 Validation Accuracy: 0.6548\n",
      "Epoch 22, CIFAR-10 Batch 3:  Loss: 0.0145 Validation Accuracy: 0.6628\n",
      "Epoch 22, CIFAR-10 Batch 4:  Loss: 0.0030 Validation Accuracy: 0.6808\n",
      "Epoch 22, CIFAR-10 Batch 5:  Loss: 0.0066 Validation Accuracy: 0.6812\n",
      "Epoch 23, CIFAR-10 Batch 1:  Loss: 0.0076 Validation Accuracy: 0.6808\n",
      "Epoch 23, CIFAR-10 Batch 2:  Loss: 0.0035 Validation Accuracy: 0.6692\n",
      "Epoch 23, CIFAR-10 Batch 3:  Loss: 0.0036 Validation Accuracy: 0.6602\n",
      "Epoch 23, CIFAR-10 Batch 4:  Loss: 0.0014 Validation Accuracy: 0.6790\n",
      "Epoch 23, CIFAR-10 Batch 5:  Loss: 0.0033 Validation Accuracy: 0.6618\n",
      "Epoch 24, CIFAR-10 Batch 1:  Loss: 0.0062 Validation Accuracy: 0.6898\n",
      "Epoch 24, CIFAR-10 Batch 2:  Loss: 0.0008 Validation Accuracy: 0.6746\n",
      "Epoch 24, CIFAR-10 Batch 3:  Loss: 0.0042 Validation Accuracy: 0.6614\n",
      "Epoch 24, CIFAR-10 Batch 4:  Loss: 0.0049 Validation Accuracy: 0.6776\n",
      "Epoch 24, CIFAR-10 Batch 5:  Loss: 0.0026 Validation Accuracy: 0.6770\n",
      "Epoch 25, CIFAR-10 Batch 1:  Loss: 0.0037 Validation Accuracy: 0.6898\n",
      "Epoch 25, CIFAR-10 Batch 2:  Loss: 0.0015 Validation Accuracy: 0.6796\n",
      "Epoch 25, CIFAR-10 Batch 3:  Loss: 0.0018 Validation Accuracy: 0.6632\n",
      "Epoch 25, CIFAR-10 Batch 4:  Loss: 0.0033 Validation Accuracy: 0.6806\n",
      "Epoch 25, CIFAR-10 Batch 5:  Loss: 0.0004 Validation Accuracy: 0.6728\n",
      "Epoch 26, CIFAR-10 Batch 1:  Loss: 0.0047 Validation Accuracy: 0.6814\n",
      "Epoch 26, CIFAR-10 Batch 2:  Loss: 0.0048 Validation Accuracy: 0.6732\n",
      "Epoch 26, CIFAR-10 Batch 3:  Loss: 0.0031 Validation Accuracy: 0.6626\n",
      "Epoch 26, CIFAR-10 Batch 4:  Loss: 0.0019 Validation Accuracy: 0.6824\n",
      "Epoch 26, CIFAR-10 Batch 5:  Loss: 0.0009 Validation Accuracy: 0.6706\n",
      "Epoch 27, CIFAR-10 Batch 1:  Loss: 0.0023 Validation Accuracy: 0.6822\n",
      "Epoch 27, CIFAR-10 Batch 2:  Loss: 0.0035 Validation Accuracy: 0.6764\n",
      "Epoch 27, CIFAR-10 Batch 3:  Loss: 0.0034 Validation Accuracy: 0.6560\n",
      "Epoch 27, CIFAR-10 Batch 4:  Loss: 0.0031 Validation Accuracy: 0.6928\n",
      "Epoch 27, CIFAR-10 Batch 5:  Loss: 0.0071 Validation Accuracy: 0.6750\n",
      "Epoch 28, CIFAR-10 Batch 1:  Loss: 0.0024 Validation Accuracy: 0.6842\n",
      "Epoch 28, CIFAR-10 Batch 2:  Loss: 0.0022 Validation Accuracy: 0.6678\n",
      "Epoch 28, CIFAR-10 Batch 3:  Loss: 0.0013 Validation Accuracy: 0.6814\n",
      "Epoch 28, CIFAR-10 Batch 4:  Loss: 0.0018 Validation Accuracy: 0.6916\n",
      "Epoch 28, CIFAR-10 Batch 5:  Loss: 0.0007 Validation Accuracy: 0.6606\n",
      "Epoch 29, CIFAR-10 Batch 1:  Loss: 0.0136 Validation Accuracy: 0.6796\n",
      "Epoch 29, CIFAR-10 Batch 2:  Loss: 0.0030 Validation Accuracy: 0.6712\n",
      "Epoch 29, CIFAR-10 Batch 3:  Loss: 0.0017 Validation Accuracy: 0.6830\n",
      "Epoch 29, CIFAR-10 Batch 4:  Loss: 0.0191 Validation Accuracy: 0.6834\n",
      "Epoch 29, CIFAR-10 Batch 5:  Loss: 0.0009 Validation Accuracy: 0.6876\n",
      "Epoch 30, CIFAR-10 Batch 1:  Loss: 0.0018 Validation Accuracy: 0.6914\n",
      "Epoch 30, CIFAR-10 Batch 2:  Loss: 0.0014 Validation Accuracy: 0.6580\n",
      "Epoch 30, CIFAR-10 Batch 3:  Loss: 0.0049 Validation Accuracy: 0.6812\n",
      "Epoch 30, CIFAR-10 Batch 4:  Loss: 0.0015 Validation Accuracy: 0.6756\n",
      "Epoch 30, CIFAR-10 Batch 5:  Loss: 0.0002 Validation Accuracy: 0.6852\n",
      "Epoch 31, CIFAR-10 Batch 1:  Loss: 0.0035 Validation Accuracy: 0.6850\n",
      "Epoch 31, CIFAR-10 Batch 2:  Loss: 0.0005 Validation Accuracy: 0.6696\n",
      "Epoch 31, CIFAR-10 Batch 3:  Loss: 0.0026 Validation Accuracy: 0.6776\n",
      "Epoch 31, CIFAR-10 Batch 4:  Loss: 0.0042 Validation Accuracy: 0.6778\n",
      "Epoch 31, CIFAR-10 Batch 5:  Loss: 0.0014 Validation Accuracy: 0.6864\n",
      "Epoch 32, CIFAR-10 Batch 1:  Loss: 0.0016 Validation Accuracy: 0.6838\n",
      "Epoch 32, CIFAR-10 Batch 2:  Loss: 0.0008 Validation Accuracy: 0.6696\n",
      "Epoch 32, CIFAR-10 Batch 3:  Loss: 0.0011 Validation Accuracy: 0.6952\n",
      "Epoch 32, CIFAR-10 Batch 4:  Loss: 0.0012 Validation Accuracy: 0.6856\n",
      "Epoch 32, CIFAR-10 Batch 5:  Loss: 0.0004 Validation Accuracy: 0.6908\n",
      "Epoch 33, CIFAR-10 Batch 1:  Loss: 0.0009 Validation Accuracy: 0.6818\n",
      "Epoch 33, CIFAR-10 Batch 2:  Loss: 0.0017 Validation Accuracy: 0.6508\n",
      "Epoch 33, CIFAR-10 Batch 3:  Loss: 0.0007 Validation Accuracy: 0.6892\n",
      "Epoch 33, CIFAR-10 Batch 4:  Loss: 0.0003 Validation Accuracy: 0.6786\n",
      "Epoch 33, CIFAR-10 Batch 5:  Loss: 0.0006 Validation Accuracy: 0.6802\n",
      "Epoch 34, CIFAR-10 Batch 1:  Loss: 0.0025 Validation Accuracy: 0.6798\n",
      "Epoch 34, CIFAR-10 Batch 2:  Loss: 0.0032 Validation Accuracy: 0.6422\n",
      "Epoch 34, CIFAR-10 Batch 3:  Loss: 0.0005 Validation Accuracy: 0.6884\n",
      "Epoch 34, CIFAR-10 Batch 4:  Loss: 0.0011 Validation Accuracy: 0.6860\n",
      "Epoch 34, CIFAR-10 Batch 5:  Loss: 0.0055 Validation Accuracy: 0.6820\n",
      "Epoch 35, CIFAR-10 Batch 1:  Loss: 0.0018 Validation Accuracy: 0.6952\n",
      "Epoch 35, CIFAR-10 Batch 2:  Loss: 0.0003 Validation Accuracy: 0.6596\n",
      "Epoch 35, CIFAR-10 Batch 3:  Loss: 0.0013 Validation Accuracy: 0.6838\n",
      "Epoch 35, CIFAR-10 Batch 4:  Loss: 0.0003 Validation Accuracy: 0.6808\n",
      "Epoch 35, CIFAR-10 Batch 5:  Loss: 0.0001 Validation Accuracy: 0.6850\n",
      "Epoch 36, CIFAR-10 Batch 1:  Loss: 0.0015 Validation Accuracy: 0.6934\n",
      "Epoch 36, CIFAR-10 Batch 2:  Loss: 0.0012 Validation Accuracy: 0.6396\n",
      "Epoch 36, CIFAR-10 Batch 3:  Loss: 0.0007 Validation Accuracy: 0.6922\n",
      "Epoch 36, CIFAR-10 Batch 4:  Loss: 0.0005 Validation Accuracy: 0.6884\n",
      "Epoch 36, CIFAR-10 Batch 5:  Loss: 0.0027 Validation Accuracy: 0.6762\n",
      "Epoch 37, CIFAR-10 Batch 1:  Loss: 0.0016 Validation Accuracy: 0.6980\n",
      "Epoch 37, CIFAR-10 Batch 2:  Loss: 0.0009 Validation Accuracy: 0.6438\n",
      "Epoch 37, CIFAR-10 Batch 3:  Loss: 0.0017 Validation Accuracy: 0.6858\n",
      "Epoch 37, CIFAR-10 Batch 4:  Loss: 0.0007 Validation Accuracy: 0.6880\n",
      "Epoch 37, CIFAR-10 Batch 5:  Loss: 0.0004 Validation Accuracy: 0.6686\n",
      "Epoch 38, CIFAR-10 Batch 1:  Loss: 0.0014 Validation Accuracy: 0.6968\n",
      "Epoch 38, CIFAR-10 Batch 2:  Loss: 0.0012 Validation Accuracy: 0.6688\n",
      "Epoch 38, CIFAR-10 Batch 3:  Loss: 0.0002 Validation Accuracy: 0.6650\n",
      "Epoch 38, CIFAR-10 Batch 4:  Loss: 0.0020 Validation Accuracy: 0.6784\n",
      "Epoch 38, CIFAR-10 Batch 5:  Loss: 0.0014 Validation Accuracy: 0.6910\n",
      "Epoch 39, CIFAR-10 Batch 1:  Loss: 0.0003 Validation Accuracy: 0.6994\n",
      "Epoch 39, CIFAR-10 Batch 2:  Loss: 0.0008 Validation Accuracy: 0.6672\n",
      "Epoch 39, CIFAR-10 Batch 3:  Loss: 0.0002 Validation Accuracy: 0.6726\n",
      "Epoch 39, CIFAR-10 Batch 4:  Loss: 0.0031 Validation Accuracy: 0.6706\n",
      "Epoch 39, CIFAR-10 Batch 5:  Loss: 0.0007 Validation Accuracy: 0.6782\n",
      "Epoch 40, CIFAR-10 Batch 1:  Loss: 0.0015 Validation Accuracy: 0.6960\n",
      "Epoch 40, CIFAR-10 Batch 2:  Loss: 0.0032 Validation Accuracy: 0.6836\n",
      "Epoch 40, CIFAR-10 Batch 3:  Loss: 0.0004 Validation Accuracy: 0.6726\n",
      "Epoch 40, CIFAR-10 Batch 4:  Loss: 0.0007 Validation Accuracy: 0.6720\n",
      "Epoch 40, CIFAR-10 Batch 5:  Loss: 0.0013 Validation Accuracy: 0.6806\n",
      "Epoch 41, CIFAR-10 Batch 1:  Loss: 0.0155 Validation Accuracy: 0.6934\n",
      "Epoch 41, CIFAR-10 Batch 2:  Loss: 0.0001 Validation Accuracy: 0.6762\n",
      "Epoch 41, CIFAR-10 Batch 3:  Loss: 0.0001 Validation Accuracy: 0.6624\n",
      "Epoch 41, CIFAR-10 Batch 4:  Loss: 0.0004 Validation Accuracy: 0.6632\n",
      "Epoch 41, CIFAR-10 Batch 5:  Loss: 0.0002 Validation Accuracy: 0.6762\n",
      "Epoch 42, CIFAR-10 Batch 1:  Loss: 0.0004 Validation Accuracy: 0.6946\n",
      "Epoch 42, CIFAR-10 Batch 2:  Loss: 0.0002 Validation Accuracy: 0.6830\n",
      "Epoch 42, CIFAR-10 Batch 3:  Loss: 0.0014 Validation Accuracy: 0.6664\n",
      "Epoch 42, CIFAR-10 Batch 4:  Loss: 0.0002 Validation Accuracy: 0.6742\n",
      "Epoch 42, CIFAR-10 Batch 5:  Loss: 0.0000 Validation Accuracy: 0.6870\n",
      "Epoch 43, CIFAR-10 Batch 1:  Loss: 0.0083 Validation Accuracy: 0.6944\n",
      "Epoch 43, CIFAR-10 Batch 2:  Loss: 0.0000 Validation Accuracy: 0.6826\n",
      "Epoch 43, CIFAR-10 Batch 3:  Loss: 0.0004 Validation Accuracy: 0.6738\n",
      "Epoch 43, CIFAR-10 Batch 4:  Loss: 0.0002 Validation Accuracy: 0.6836\n",
      "Epoch 43, CIFAR-10 Batch 5:  Loss: 0.0003 Validation Accuracy: 0.6868\n",
      "Epoch 44, CIFAR-10 Batch 1:  Loss: 0.0009 Validation Accuracy: 0.6834\n",
      "Epoch 44, CIFAR-10 Batch 2:  Loss: 0.0000 Validation Accuracy: 0.6838\n",
      "Epoch 44, CIFAR-10 Batch 3:  Loss: 0.0007 Validation Accuracy: 0.6772\n",
      "Epoch 44, CIFAR-10 Batch 4:  Loss: 0.0001 Validation Accuracy: 0.6858\n",
      "Epoch 44, CIFAR-10 Batch 5:  Loss: 0.0006 Validation Accuracy: 0.6760\n",
      "Epoch 45, CIFAR-10 Batch 1:  Loss: 0.0029 Validation Accuracy: 0.6892\n",
      "Epoch 45, CIFAR-10 Batch 2:  Loss: 0.0003 Validation Accuracy: 0.6790\n",
      "Epoch 45, CIFAR-10 Batch 3:  Loss: 0.0001 Validation Accuracy: 0.6814\n",
      "Epoch 45, CIFAR-10 Batch 4:  Loss: 0.0004 Validation Accuracy: 0.6786\n",
      "Epoch 45, CIFAR-10 Batch 5:  Loss: 0.0019 Validation Accuracy: 0.6932\n",
      "Epoch 46, CIFAR-10 Batch 1:  Loss: 0.0077 Validation Accuracy: 0.6872\n",
      "Epoch 46, CIFAR-10 Batch 2:  Loss: 0.0001 Validation Accuracy: 0.6712\n",
      "Epoch 46, CIFAR-10 Batch 3:  Loss: 0.0001 Validation Accuracy: 0.6808\n",
      "Epoch 46, CIFAR-10 Batch 4:  Loss: 0.0019 Validation Accuracy: 0.6766\n",
      "Epoch 46, CIFAR-10 Batch 5:  Loss: 0.0019 Validation Accuracy: 0.6832\n",
      "Epoch 47, CIFAR-10 Batch 1:  Loss: 0.0022 Validation Accuracy: 0.6716\n",
      "Epoch 47, CIFAR-10 Batch 2:  Loss: 0.0002 Validation Accuracy: 0.6778\n",
      "Epoch 47, CIFAR-10 Batch 3:  Loss: 0.0000 Validation Accuracy: 0.6764\n",
      "Epoch 47, CIFAR-10 Batch 4:  Loss: 0.0002 Validation Accuracy: 0.6644\n",
      "Epoch 47, CIFAR-10 Batch 5:  Loss: 0.0003 Validation Accuracy: 0.6884\n",
      "Epoch 48, CIFAR-10 Batch 1:  Loss: 0.0011 Validation Accuracy: 0.6794\n",
      "Epoch 48, CIFAR-10 Batch 2:  Loss: 0.0007 Validation Accuracy: 0.6826\n",
      "Epoch 48, CIFAR-10 Batch 3:  Loss: 0.0001 Validation Accuracy: 0.6770\n",
      "Epoch 48, CIFAR-10 Batch 4:  Loss: 0.0011 Validation Accuracy: 0.6702\n",
      "Epoch 48, CIFAR-10 Batch 5:  Loss: 0.0010 Validation Accuracy: 0.6966\n",
      "Epoch 49, CIFAR-10 Batch 1:  Loss: 0.0008 Validation Accuracy: 0.6820\n",
      "Epoch 49, CIFAR-10 Batch 2:  Loss: 0.0009 Validation Accuracy: 0.6738\n",
      "Epoch 49, CIFAR-10 Batch 3:  Loss: 0.0005 Validation Accuracy: 0.6780\n",
      "Epoch 49, CIFAR-10 Batch 4:  Loss: 0.0008 Validation Accuracy: 0.6806\n",
      "Epoch 49, CIFAR-10 Batch 5:  Loss: 0.0070 Validation Accuracy: 0.6970\n",
      "Epoch 50, CIFAR-10 Batch 1:  Loss: 0.0006 Validation Accuracy: 0.6744\n",
      "Epoch 50, CIFAR-10 Batch 2:  Loss: 0.0001 Validation Accuracy: 0.6854\n",
      "Epoch 50, CIFAR-10 Batch 3:  Loss: 0.0001 Validation Accuracy: 0.6878\n",
      "Epoch 50, CIFAR-10 Batch 4:  Loss: 0.0006 Validation Accuracy: 0.6772\n",
      "Epoch 50, CIFAR-10 Batch 5:  Loss: 0.0018 Validation Accuracy: 0.6902\n"
     ]
    }
   ],
   "source": [
    "\"\"\"\n",
    "DON'T MODIFY ANYTHING IN THIS CELL\n",
    "\"\"\"\n",
    "save_model_path = './image_classification'\n",
    "\n",
    "print('Training...')\n",
    "with tf.Session() as sess:\n",
    "    # Initializing the variables\n",
    "    sess.run(tf.global_variables_initializer())\n",
    "    \n",
    "    # Training cycle\n",
    "    for epoch in range(epochs):\n",
    "        # Loop over all batches\n",
    "        n_batches = 5\n",
    "        for batch_i in range(1, n_batches + 1):\n",
    "            for batch_features, batch_labels in helper.load_preprocess_training_batch(batch_i, batch_size):\n",
    "                train_neural_network(sess, optimizer, keep_probability, batch_features, batch_labels)\n",
    "            print('Epoch {:>2}, CIFAR-10 Batch {}:  '.format(epoch + 1, batch_i), end='')\n",
    "            print_stats(sess, batch_features, batch_labels, cost, accuracy)\n",
    "            \n",
    "    # Save Model\n",
    "    saver = tf.train.Saver()\n",
    "    save_path = saver.save(sess, save_model_path)"
   ]
  },
  {
   "cell_type": "markdown",
   "metadata": {
    "deletable": true,
    "editable": true
   },
   "source": [
    "# Checkpoint\n",
    "The model has been saved to disk.\n",
    "## Test Model\n",
    "Test your model against the test dataset.  This will be your final accuracy. You should have an accuracy greater than 50%. If you don't, keep tweaking the model architecture and parameters."
   ]
  },
  {
   "cell_type": "code",
   "execution_count": 33,
   "metadata": {
    "collapsed": false,
    "deletable": true,
    "editable": true
   },
   "outputs": [
    {
     "name": "stdout",
     "output_type": "stream",
     "text": [
      "Testing Accuracy: 0.6852687383309389\n",
      "\n"
     ]
    },
    {
     "data": {
      "image/png": "[encoded data removed]",
      "text/plain": [
       "<matplotlib.figure.Figure at 0x7f901e2fa9b0>"
      ]
     },
     "metadata": {
      "image/png": {
       "height": 319,
       "width": 355
      }
     },
     "output_type": "display_data"
    }
   ],
   "source": [
    "\"\"\"\n",
    "DON'T MODIFY ANYTHING IN THIS CELL\n",
    "\"\"\"\n",
    "%matplotlib inline\n",
    "%config InlineBackend.figure_format = 'retina'\n",
    "\n",
    "import tensorflow as tf\n",
    "import pickle\n",
    "import helper\n",
    "import random\n",
    "\n",
    "# Set batch size if not already set\n",
    "try:\n",
    "    if batch_size:\n",
    "        pass\n",
    "except NameError:\n",
    "    batch_size = 64\n",
    "\n",
    "save_model_path = './image_classification'\n",
    "n_samples = 4\n",
    "top_n_predictions = 3\n",
    "\n",
    "def test_model():\n",
    "    \"\"\"\n",
    "    Test the saved model against the test dataset\n",
    "    \"\"\"\n",
    "\n",
    "    test_features, test_labels = pickle.load(open('preprocess_training.p', mode='rb'))\n",
    "    loaded_graph = tf.Graph()\n",
    "\n",
    "    with tf.Session(graph=loaded_graph) as sess:\n",
    "        # Load model\n",
    "        loader = tf.train.import_meta_graph(save_model_path + '.meta')\n",
    "        loader.restore(sess, save_model_path)\n",
    "\n",
    "        # Get Tensors from loaded model\n",
    "        loaded_x = loaded_graph.get_tensor_by_name('x:0')\n",
    "        loaded_y = loaded_graph.get_tensor_by_name('y:0')\n",
    "        loaded_keep_prob = loaded_graph.get_tensor_by_name('keep_prob:0')\n",
    "        loaded_logits = loaded_graph.get_tensor_by_name('logits:0')\n",
    "        loaded_acc = loaded_graph.get_tensor_by_name('accuracy:0')\n",
    "        \n",
    "        # Get accuracy in batches for memory limitations\n",
    "        test_batch_acc_total = 0\n",
    "        test_batch_count = 0\n",
    "        \n",
    "        for train_feature_batch, train_label_batch in helper.batch_features_labels(test_features, test_labels, batch_size):\n",
    "            test_batch_acc_total += sess.run(\n",
    "                loaded_acc,\n",
    "                feed_dict={loaded_x: train_feature_batch, loaded_y: train_label_batch, loaded_keep_prob: 1.0})\n",
    "            test_batch_count += 1\n",
    "\n",
    "        print('Testing Accuracy: {}\\n'.format(test_batch_acc_total/test_batch_count))\n",
    "\n",
    "        # Print Random Samples\n",
    "        random_test_features, random_test_labels = tuple(zip(*random.sample(list(zip(test_features, test_labels)), n_samples)))\n",
    "        random_test_predictions = sess.run(\n",
    "            tf.nn.top_k(tf.nn.softmax(loaded_logits), top_n_predictions),\n",
    "            feed_dict={loaded_x: random_test_features, loaded_y: random_test_labels, loaded_keep_prob: 1.0})\n",
    "        helper.display_image_predictions(random_test_features, random_test_labels, random_test_predictions)\n",
    "\n",
    "\n",
    "test_model()"
   ]
  },
  {
   "cell_type": "markdown",
   "metadata": {
    "deletable": true,
    "editable": true
   },
   "source": [
    "## Why 50-70% Accuracy?\n",
    "You might be wondering why you can't get an accuracy any higher. First things first, 50% isn't bad for a simple CNN.  Pure guessing would get you 10% accuracy. However, you might notice people are getting scores [well above 70%](http://rodrigob.github.io/are_we_there_yet/build/classification_datasets_results.html#43494641522d3130).  That's because we haven't taught you all there is to know about neural networks. We still need to cover a few more techniques.\n",
    "## Submitting This Project\n",
    "When submitting this project, make sure to run all the cells before saving the notebook.  Save the notebook file as \"dlnd_image_classification.ipynb\" and save it as a HTML file under \"File\" -> \"Download as\".  Include the \"helper.py\" and \"problem_unittests.py\" files in your submission."
   ]
  }
 ],
 "metadata": {
  "kernelspec": {
   "display_name": "Python 3",
   "language": "python",
   "name": "python3"
  },
  "language_info": {
   "codemirror_mode": {
    "name": "ipython",
    "version": 3
   },
   "file_extension": ".py",
   "mimetype": "text/x-python",
   "name": "python",
   "nbconvert_exporter": "python",
   "pygments_lexer": "ipython3",
   "version": "3.5.3"
  }
 },
 "nbformat": 4,
 "nbformat_minor": 0
}
